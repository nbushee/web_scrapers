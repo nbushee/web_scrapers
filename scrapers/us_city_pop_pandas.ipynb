{
 "cells": [
  {
   "cell_type": "code",
   "execution_count": 1,
   "id": "7cd46d0d",
   "metadata": {},
   "outputs": [],
   "source": [
    "from bs4 import BeautifulSoup\n",
    "import requests\n",
    "import pandas as pd\n",
    "import numpy as np\n",
    "url = 'https://en.wikipedia.org/wiki/List_of_United_States_cities_by_population'\n",
    "page = requests.get(url)\n",
    "soup = BeautifulSoup(page.text, 'html5lib')\n",
    "#print(soup)"
   ]
  },
  {
   "cell_type": "code",
   "execution_count": 2,
   "id": "82a9ec1c",
   "metadata": {},
   "outputs": [],
   "source": [
    "table = soup.find_all('table')[4]\n",
    "#print(table)"
   ]
  },
  {
   "cell_type": "code",
   "execution_count": 3,
   "id": "ace5c2ea",
   "metadata": {},
   "outputs": [],
   "source": [
    "col_titles = table.find_all('th')[:9]"
   ]
  },
  {
   "cell_type": "code",
   "execution_count": 4,
   "id": "1be0a2c7",
   "metadata": {},
   "outputs": [],
   "source": [
    "col_table_titles = [title.text.strip().replace('[c]','') for title in col_titles]\n",
    "#print(col_table_titles)"
   ]
  },
  {
   "cell_type": "code",
   "execution_count": 5,
   "id": "1d64fce6",
   "metadata": {},
   "outputs": [
    {
     "data": {
      "text/html": [
       "<div>\n",
       "<style scoped>\n",
       "    .dataframe tbody tr th:only-of-type {\n",
       "        vertical-align: middle;\n",
       "    }\n",
       "\n",
       "    .dataframe tbody tr th {\n",
       "        vertical-align: top;\n",
       "    }\n",
       "\n",
       "    .dataframe thead th {\n",
       "        text-align: right;\n",
       "    }\n",
       "</style>\n",
       "<table border=\"1\" class=\"dataframe\">\n",
       "  <thead>\n",
       "    <tr style=\"text-align: right;\">\n",
       "      <th></th>\n",
       "      <th>City</th>\n",
       "      <th>State</th>\n",
       "      <th>2022 estimate</th>\n",
       "      <th>2020 census</th>\n",
       "      <th>Change</th>\n",
       "      <th>2020 land area (sq mi)</th>\n",
       "      <th>2020 land area (sq km)</th>\n",
       "      <th>2020 population density (sq mi)</th>\n",
       "      <th>2020 population density (sq km)</th>\n",
       "      <th>Location</th>\n",
       "    </tr>\n",
       "  </thead>\n",
       "  <tbody>\n",
       "  </tbody>\n",
       "</table>\n",
       "</div>"
      ],
      "text/plain": [
       "Empty DataFrame\n",
       "Columns: [City, State, 2022 estimate, 2020 census, Change, 2020 land area (sq mi), 2020 land area (sq km), 2020 population density (sq mi), 2020 population density (sq km), Location]\n",
       "Index: []"
      ]
     },
     "execution_count": 5,
     "metadata": {},
     "output_type": "execute_result"
    }
   ],
   "source": [
    "df = pd.DataFrame(columns =['City', 'State', '2022 estimate', '2020 census', 'Change', '2020 land area (sq mi)', '2020 land area (sq km)','2020 population density (sq mi)', '2020 population density (sq km)','Location'])\n",
    "df"
   ]
  },
  {
   "cell_type": "code",
   "execution_count": 6,
   "id": "a49d3acf",
   "metadata": {},
   "outputs": [],
   "source": [
    "col_data = table.find_all('tr')\n",
    "#col_data"
   ]
  },
  {
   "cell_type": "code",
   "execution_count": 146,
   "id": "438bdf89",
   "metadata": {},
   "outputs": [],
   "source": [
    "for row in col_data[1:]:\n",
    "    row_data = row.find_all('td')\n",
    "    record_data = [data.text.strip() for data in row_data]\n",
    "    length = len(df)\n",
    "    df.loc[length] = record_data"
   ]
  },
  {
   "cell_type": "code",
   "execution_count": 147,
   "id": "15b2913c",
   "metadata": {},
   "outputs": [],
   "source": [
    "df.index = np.arange(1, len(df) + 1)\n",
    "df.index.name=\"2022 Rank\"\n",
    "df.to_csv(r'C:\\Users\\nbush\\python\\output_csvs\\US_City_Populations.csv', encoding='utf-8')"
   ]
  },
  {
   "cell_type": "code",
   "execution_count": null,
   "id": "1582e83e",
   "metadata": {},
   "outputs": [],
   "source": []
  },
  {
   "cell_type": "code",
   "execution_count": null,
   "id": "eac83a00",
   "metadata": {},
   "outputs": [],
   "source": []
  }
 ],
 "metadata": {
  "kernelspec": {
   "display_name": "Python 3 (ipykernel)",
   "language": "python",
   "name": "python3"
  },
  "language_info": {
   "codemirror_mode": {
    "name": "ipython",
    "version": 3
   },
   "file_extension": ".py",
   "mimetype": "text/x-python",
   "name": "python",
   "nbconvert_exporter": "python",
   "pygments_lexer": "ipython3",
   "version": "3.10.9"
  }
 },
 "nbformat": 4,
 "nbformat_minor": 5
}
